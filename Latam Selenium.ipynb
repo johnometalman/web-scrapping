{
 "cells": [
  {
   "cell_type": "code",
   "execution_count": 82,
   "id": "45eed15a",
   "metadata": {},
   "outputs": [],
   "source": [
    "import requests"
   ]
  },
  {
   "cell_type": "code",
   "execution_count": 83,
   "id": "c8670d18",
   "metadata": {},
   "outputs": [],
   "source": [
    "url = 'https://www.latam.com/es_un/apps/personas/booking?fecha1_dia=06&fecha1_anomes=2021-12&auAvailability=1&ida_vuelta=ida&vuelos_origen=Quito&from_city1=UIO&vuelos_destino=Vancouver&to_city1=YVR&flex=1&vuelos_fecha_salida_ddmmaaaa=07/12/2021&cabina=Y&nadults=1&nchildren=0&ninfants=0&cod_promo=&stopover_outbound_days=0&stopover_inbound_days=0&application=#/'"
   ]
  },
  {
   "cell_type": "code",
   "execution_count": 84,
   "id": "43be9a65",
   "metadata": {},
   "outputs": [],
   "source": [
    "agent = {\"User-Agent\":\"Mozilla/5.0\"}\n",
    "r = requests.get(url, headers=agent)"
   ]
  },
  {
   "cell_type": "code",
   "execution_count": 85,
   "id": "db485981",
   "metadata": {},
   "outputs": [
    {
     "data": {
      "text/plain": [
       "200"
      ]
     },
     "execution_count": 85,
     "metadata": {},
     "output_type": "execute_result"
    }
   ],
   "source": [
    "r.status_code"
   ]
  },
  {
   "cell_type": "code",
   "execution_count": 86,
   "id": "e051f1ff",
   "metadata": {},
   "outputs": [],
   "source": [
    "from selenium import webdriver"
   ]
  },
  {
   "cell_type": "code",
   "execution_count": 87,
   "id": "d404fd61",
   "metadata": {},
   "outputs": [
    {
     "data": {
      "text/plain": [
       "'c:\\\\users\\\\jm_yg\\\\dropbox\\\\educación\\\\moocs\\\\web scrapping\\\\venv\\\\scripts'"
      ]
     },
     "execution_count": 87,
     "metadata": {},
     "output_type": "execute_result"
    }
   ],
   "source": [
    "import os\n",
    "import sys\n",
    "os.path.dirname(sys.executable)"
   ]
  },
  {
   "cell_type": "markdown",
   "id": "35c9cd62",
   "metadata": {},
   "source": [
    "Paso 1. \n",
    "\n",
    "Definir con la variable options que abre el navegador en modo incógnito.\n",
    "Driver es donde selecciono la ruta del chromedriver. Así abro chrome"
   ]
  },
  {
   "cell_type": "code",
   "execution_count": 88,
   "id": "dc5e557c",
   "metadata": {},
   "outputs": [],
   "source": [
    "options = webdriver.ChromeOptions()\n",
    "options.add_argument('--incognito')\n",
    "driver = webdriver.Chrome(executable_path=r'C:\\\\Users\\\\jm_yg\\\\Dropbox\\\\Educación\\\\MOOCS\\\\Web Scrapping\\\\chromedriver_win32\\\\chromedriver.exe', options=options)"
   ]
  },
  {
   "cell_type": "markdown",
   "id": "ec10eeb8",
   "metadata": {},
   "source": [
    "Paso 2. Abro el URL "
   ]
  },
  {
   "cell_type": "code",
   "execution_count": 89,
   "id": "62293b43",
   "metadata": {},
   "outputs": [],
   "source": [
    "driver.get(url)"
   ]
  },
  {
   "cell_type": "markdown",
   "id": "a13c8b73",
   "metadata": {},
   "source": [
    "Paso 3. Extraigo la información "
   ]
  },
  {
   "cell_type": "code",
   "execution_count": 91,
   "id": "4a77ea4f",
   "metadata": {},
   "outputs": [],
   "source": [
    "notificacion = driver.find_element_by_xpath('.//button[@class=\"align-right secondary slidedown-button\"]').click()"
   ]
  },
  {
   "cell_type": "code",
   "execution_count": 92,
   "id": "fe6a4ea5",
   "metadata": {},
   "outputs": [
    {
     "data": {
      "text/plain": [
       "[<selenium.webdriver.remote.webelement.WebElement (session=\"7d828358c31d2285c114f08c6b5f6935\", element=\"d540a650-b910-484c-9b66-308c03fe11bf\")>,\n",
       " <selenium.webdriver.remote.webelement.WebElement (session=\"7d828358c31d2285c114f08c6b5f6935\", element=\"44e28349-63c8-464e-bc25-9d5bd52bd7ea\")>,\n",
       " <selenium.webdriver.remote.webelement.WebElement (session=\"7d828358c31d2285c114f08c6b5f6935\", element=\"ba20a450-e46c-43df-8a5d-725b4537b52f\")>,\n",
       " <selenium.webdriver.remote.webelement.WebElement (session=\"7d828358c31d2285c114f08c6b5f6935\", element=\"b95cc869-c408-4d2e-90b7-96f696ba1e0b\")>]"
      ]
     },
     "execution_count": 92,
     "metadata": {},
     "output_type": "execute_result"
    }
   ],
   "source": [
    "#Busco los vuelos\n",
    "vuelos = driver.find_elements_by_xpath('//li[@class=\"flight\"]')\n",
    "vuelos"
   ]
  },
  {
   "cell_type": "code",
   "execution_count": 93,
   "id": "ddb8e193",
   "metadata": {},
   "outputs": [
    {
     "data": {
      "text/plain": [
       "<selenium.webdriver.remote.webelement.WebElement (session=\"7d828358c31d2285c114f08c6b5f6935\", element=\"d540a650-b910-484c-9b66-308c03fe11bf\")>"
      ]
     },
     "execution_count": 93,
     "metadata": {},
     "output_type": "execute_result"
    }
   ],
   "source": [
    "#Selecciono el primer vuelo\n",
    "vuelo = vuelos[0]\n",
    "vuelo"
   ]
  },
  {
   "cell_type": "code",
   "execution_count": 94,
   "id": "8afadce4",
   "metadata": {},
   "outputs": [
    {
     "data": {
      "text/plain": [
       "'18:57'"
      ]
     },
     "execution_count": 94,
     "metadata": {},
     "output_type": "execute_result"
    }
   ],
   "source": [
    "#Extracción Hora de Partida\n",
    "vuelo.find_element_by_xpath('.//div[@class=\"departure\"]/time').get_attribute('datetime')"
   ]
  },
  {
   "cell_type": "code",
   "execution_count": 95,
   "id": "6043095e",
   "metadata": {},
   "outputs": [
    {
     "data": {
      "text/plain": [
       "'15:10'"
      ]
     },
     "execution_count": 95,
     "metadata": {},
     "output_type": "execute_result"
    }
   ],
   "source": [
    "#Extracción Hora de llegada\n",
    "vuelo.find_element_by_xpath('.//div[@class=\"arrival\"]/time').get_attribute('datetime')"
   ]
  },
  {
   "cell_type": "code",
   "execution_count": 96,
   "id": "892e2f2d",
   "metadata": {},
   "outputs": [
    {
     "data": {
      "text/plain": [
       "'PT23H13M'"
      ]
     },
     "execution_count": 96,
     "metadata": {},
     "output_type": "execute_result"
    }
   ],
   "source": [
    "#Extracción Duración de Vuelo\n",
    "vuelo.find_element_by_xpath('.//span[@class=\"duration\"]/time').get_attribute('datetime')"
   ]
  },
  {
   "cell_type": "code",
   "execution_count": 97,
   "id": "1a985b2b",
   "metadata": {},
   "outputs": [],
   "source": [
    "#Para ver las escalas necesito buscar el botón con XPATH\n",
    "boton_escalas = vuelo.find_element_by_xpath('.//div[@class=\"flight-summary-stops-description\"]/button')"
   ]
  },
  {
   "cell_type": "code",
   "execution_count": 98,
   "id": "020ada4d",
   "metadata": {},
   "outputs": [],
   "source": [
    "#Acá uso la función CLICK para que Selenieum de un clic\n",
    "boton_escalas.click()"
   ]
  },
  {
   "cell_type": "code",
   "execution_count": 99,
   "id": "9dce3dcf",
   "metadata": {},
   "outputs": [
    {
     "data": {
      "text/plain": [
       "[<selenium.webdriver.remote.webelement.WebElement (session=\"7d828358c31d2285c114f08c6b5f6935\", element=\"f2c2533d-60f2-4563-b5d2-8131191897ff\")>,\n",
       " <selenium.webdriver.remote.webelement.WebElement (session=\"7d828358c31d2285c114f08c6b5f6935\", element=\"e7e3dc10-5400-4d26-a8db-47602da07196\")>,\n",
       " <selenium.webdriver.remote.webelement.WebElement (session=\"7d828358c31d2285c114f08c6b5f6935\", element=\"fed45525-7e1a-4c18-a9ef-3a04d4e9b75b\")>]"
      ]
     },
     "execution_count": 99,
     "metadata": {},
     "output_type": "execute_result"
    }
   ],
   "source": [
    "#Busco los segmentos\n",
    "segmentos = vuelo.find_elements_by_xpath('//div[@class=\"sc-hZSUBg gfeULV\"]/div[@class=\"sc-cLQEGU hyoued\"]')\n",
    "segmentos"
   ]
  },
  {
   "cell_type": "code",
   "execution_count": 100,
   "id": "4cf98b5b",
   "metadata": {},
   "outputs": [
    {
     "data": {
      "text/plain": [
       "<selenium.webdriver.remote.webelement.WebElement (session=\"7d828358c31d2285c114f08c6b5f6935\", element=\"f2c2533d-60f2-4563-b5d2-8131191897ff\")>"
      ]
     },
     "execution_count": 100,
     "metadata": {},
     "output_type": "execute_result"
    }
   ],
   "source": [
    "#Selecciono el primer segmento\n",
    "segmento = segmentos[0]\n",
    "segmento"
   ]
  },
  {
   "cell_type": "code",
   "execution_count": 101,
   "id": "758c5fe6",
   "metadata": {},
   "outputs": [
    {
     "data": {
      "text/plain": [
       "2"
      ]
     },
     "execution_count": 101,
     "metadata": {},
     "output_type": "execute_result"
    }
   ],
   "source": [
    "#Acá extraigo el número de escalas para el vuelo \n",
    "escalas = len(segmentos) - 1\n",
    "escalas"
   ]
  },
  {
   "cell_type": "code",
   "execution_count": 102,
   "id": "e3eec950",
   "metadata": {},
   "outputs": [
    {
     "data": {
      "text/plain": [
       "'Mariscal Sucre Intl.'"
      ]
     },
     "execution_count": 102,
     "metadata": {},
     "output_type": "execute_result"
    }
   ],
   "source": [
    "#Busco el aeropuerto de salida\n",
    "segmento.find_element_by_xpath('.//span[@class=\"sc-eTuwsz eumCTU\"]/span').text"
   ]
  },
  {
   "cell_type": "code",
   "execution_count": 103,
   "id": "b221864a",
   "metadata": {},
   "outputs": [
    {
     "data": {
      "text/plain": [
       "'18:57'"
      ]
     },
     "execution_count": 103,
     "metadata": {},
     "output_type": "execute_result"
    }
   ],
   "source": [
    "#Busco la hora de salida\n",
    "segmento.find_element_by_xpath('.//div[@class=\"sc-bwCtUz iybVbT\"]/time').get_attribute('datetime')"
   ]
  },
  {
   "cell_type": "code",
   "execution_count": 104,
   "id": "84fbbd60",
   "metadata": {},
   "outputs": [],
   "source": [
    "#Cierro la sub-página de Escalas\n",
    "driver.find_element_by_xpath('//div[@class=\"modal-header sc-dnqmqq cGfTsx\"]//button[@class=\"close\"]').click()"
   ]
  },
  {
   "cell_type": "code",
   "execution_count": 105,
   "id": "6a68b1d9",
   "metadata": {},
   "outputs": [],
   "source": [
    "#Abro el Módulo de Precios\n",
    "vuelo.click()"
   ]
  },
  {
   "cell_type": "code",
   "execution_count": 106,
   "id": "0289af52",
   "metadata": {},
   "outputs": [
    {
     "data": {
      "text/plain": [
       "[<selenium.webdriver.remote.webelement.WebElement (session=\"7d828358c31d2285c114f08c6b5f6935\", element=\"cbe3c2b8-f54f-4562-ac3c-6c9be7205189\")>,\n",
       " <selenium.webdriver.remote.webelement.WebElement (session=\"7d828358c31d2285c114f08c6b5f6935\", element=\"11dbf153-a682-4512-9359-babb0ed51b17\")>]"
      ]
     },
     "execution_count": 106,
     "metadata": {},
     "output_type": "execute_result"
    }
   ],
   "source": [
    "tarifas = vuelo.find_elements_by_xpath('//div[@class=\"fares-table-container\"]//tfoot//td[contains(@class, \"fare-\")]')\n",
    "tarifas"
   ]
  },
  {
   "cell_type": "code",
   "execution_count": 107,
   "id": "c53d1a70",
   "metadata": {},
   "outputs": [
    {
     "name": "stdout",
     "output_type": "stream",
     "text": [
      "{'PLUS': {'moneda': 'US$', 'valor': '1511'}}\n",
      "{'TOP': {'moneda': 'US$', 'valor': '738'}}\n"
     ]
    }
   ],
   "source": [
    "precios = []\n",
    "for tarifa in tarifas:\n",
    "    nombre = tarifa.find_element_by_xpath('.//label').get_attribute('for')\n",
    "    moneda = tarifa.find_element_by_xpath('.//span[@class=\"price\"]/span[@class=\"currency-symbol\"]').text\n",
    "    valor = tarifa.find_element_by_xpath('.//span[@class=\"price\"]/span[@class=\"value\"]').text\n",
    "    dict_tarifa = {nombre:{'moneda': moneda, 'valor': valor}}\n",
    "    precios.append(dict_tarifa)\n",
    "    print(dict_tarifa)"
   ]
  },
  {
   "cell_type": "code",
   "execution_count": null,
   "id": "04e4f784",
   "metadata": {},
   "outputs": [],
   "source": [
    "def obtener_precios(vuelo):\n",
    "    '''\n",
    "    Esta es la función que uso para tener las tarifas\n",
    "    '''\n",
    "    tarifas = vuelo.find_elements_by_xpath('//div[@class=\"fares-table-container\"]//tfoot//td[contains(@class, \"fare-\")]')\n",
    "    precios = []\n",
    "    for tarifa in tarifas:\n",
    "        nombre = tarifa.find_element_by_xpath('.//label').get_attribute('for')\n",
    "        moneda = tarifa.find_element_by_xpath('.//span[@class=\"price\"]/span[@class=\"currency-symbol\"]').text\n",
    "        valor = tarifa.find_element_by_xpath('.//span[@class=\"price\"]/span[@class=\"value\"]').text\n",
    "        dict_tarifa = {nombre:{'moneda': moneda, 'valor': valor}}\n",
    "        precios.append(dict_tarifa)\n",
    "        print(dict_tarifa)\n",
    "    return precios"
   ]
  },
  {
   "cell_type": "code",
   "execution_count": null,
   "id": "1981e588",
   "metadata": {},
   "outputs": [],
   "source": [
    "def obtener_datos_escalas(vuelo):\n",
    "    '''\n",
    "    Función que retorna una lista de diccionarios \n",
    "    con la información de las escalas de cada vuelo\n",
    "    '''\n",
    "    segmentos = vuelo.find_elements_by_xpath('//div[@class=\"sc-hZSUBg gfeULV\"]/div[@class=\"sc-cLQEGU hyoued\"]')\n",
    "    info_escalas = []\n",
    "    for segmento in segmentos:\n",
    "        #Origen\n",
    "        vuelo.find_element_by_xpath('.//div[@class=\"departure\"]/time').get_attribute('datetime')\n",
    "        #Llegada\n",
    "        \n",
    "        info_escalas.append()\n",
    "    return info_escalas"
   ]
  },
  {
   "cell_type": "code",
   "execution_count": 110,
   "id": "b976b07e",
   "metadata": {},
   "outputs": [],
   "source": [
    "def obtener_tiempos(vuelo):\n",
    "    '''\n",
    "    función que retorna un diccionario con los horarios de salida\n",
    "    y de llegada de cada vuelo, incluyendo la duración. \n",
    "    \n",
    "    Nota: LA DURACIÓN DEL VUELO NO ES LA HORA DE LLEGADA, hay que calcularlo\n",
    "    sabiendo la hora de saluda y la hora de llegada. \n",
    "    '''\n",
    "    return tiempos"
   ]
  },
  {
   "cell_type": "markdown",
   "id": "99b9e8c9",
   "metadata": {},
   "source": [
    "Paso 4. Cierro el navegador"
   ]
  },
  {
   "cell_type": "code",
   "execution_count": 108,
   "id": "c7628cdd",
   "metadata": {},
   "outputs": [],
   "source": [
    "#driver.close()"
   ]
  }
 ],
 "metadata": {
  "kernelspec": {
   "display_name": "Python 3 (ipykernel)",
   "language": "python",
   "name": "python3"
  },
  "language_info": {
   "codemirror_mode": {
    "name": "ipython",
    "version": 3
   },
   "file_extension": ".py",
   "mimetype": "text/x-python",
   "name": "python",
   "nbconvert_exporter": "python",
   "pygments_lexer": "ipython3",
   "version": "3.9.6"
  }
 },
 "nbformat": 4,
 "nbformat_minor": 5
}
