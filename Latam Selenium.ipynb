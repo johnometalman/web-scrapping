{
 "cells": [
  {
   "cell_type": "code",
   "execution_count": 313,
   "id": "c8670d18",
   "metadata": {},
   "outputs": [],
   "source": [
    "url = 'https://www.latam.com/es_un/apps/personas/booking?fecha1_dia=07&fecha1_anomes=2021-12&auAvailability=1&ida_vuelta=ida&vuelos_origen=Quito&from_city1=UIO&vuelos_destino=Vancouver&to_city1=YVR&flex=1&vuelos_fecha_salida_ddmmaaaa=07/12/2021&cabina=Y&nadults=1&nchildren=0&ninfants=0&cod_promo=&stopover_outbound_days=0&stopover_inbound_days=0#/'"
   ]
  },
  {
   "cell_type": "code",
   "execution_count": 314,
   "id": "0581f175",
   "metadata": {},
   "outputs": [],
   "source": [
    "agent = {\"User-Agent\":\"Mozilla/5.0\"}"
   ]
  },
  {
   "cell_type": "code",
   "execution_count": 315,
   "id": "edda09df",
   "metadata": {},
   "outputs": [],
   "source": [
    "r = requests.get(url, headers = agent)"
   ]
  },
  {
   "cell_type": "code",
   "execution_count": 316,
   "id": "db485981",
   "metadata": {},
   "outputs": [
    {
     "data": {
      "text/plain": [
       "200"
      ]
     },
     "execution_count": 316,
     "metadata": {},
     "output_type": "execute_result"
    }
   ],
   "source": [
    "r.status_code"
   ]
  },
  {
   "cell_type": "code",
   "execution_count": 317,
   "id": "e051f1ff",
   "metadata": {},
   "outputs": [],
   "source": [
    "from selenium import webdriver"
   ]
  },
  {
   "cell_type": "code",
   "execution_count": 318,
   "id": "d404fd61",
   "metadata": {},
   "outputs": [
    {
     "data": {
      "text/plain": [
       "'c:\\\\users\\\\jm_yg\\\\dropbox\\\\educación\\\\moocs\\\\web scrapping\\\\venv\\\\scripts'"
      ]
     },
     "execution_count": 318,
     "metadata": {},
     "output_type": "execute_result"
    }
   ],
   "source": [
    "import os\n",
    "import sys\n",
    "os.path.dirname(sys.executable)"
   ]
  },
  {
   "cell_type": "markdown",
   "id": "35c9cd62",
   "metadata": {},
   "source": [
    "Paso 1. \n",
    "\n",
    "Definir con la variable options que abre el navegador en modo incógnito.\n",
    "Driver es donde selecciono la ruta del chromedriver. Así abro chrome"
   ]
  },
  {
   "cell_type": "code",
   "execution_count": 319,
   "id": "dc5e557c",
   "metadata": {},
   "outputs": [],
   "source": [
    "options = webdriver.ChromeOptions()\n",
    "options.add_argument('--incognito')\n",
    "driver = webdriver.Chrome(executable_path=r'C:\\\\Users\\\\jm_yg\\\\Dropbox\\\\Educación\\\\MOOCS\\\\Web Scrapping\\\\chromedriver_win32\\\\chromedriver.exe', options=options)"
   ]
  },
  {
   "cell_type": "markdown",
   "id": "ec10eeb8",
   "metadata": {},
   "source": [
    "Paso 2. Abro el URL "
   ]
  },
  {
   "cell_type": "code",
   "execution_count": 320,
   "id": "62293b43",
   "metadata": {},
   "outputs": [],
   "source": [
    "driver.get(url)"
   ]
  },
  {
   "cell_type": "markdown",
   "id": "a13c8b73",
   "metadata": {},
   "source": [
    "Paso 3. Extraigo la información "
   ]
  },
  {
   "cell_type": "code",
   "execution_count": 322,
   "id": "4a77ea4f",
   "metadata": {},
   "outputs": [],
   "source": [
    "notificacion = driver.find_element_by_xpath('.//button[@class=\"align-right secondary slidedown-button\"]').click()"
   ]
  },
  {
   "cell_type": "code",
   "execution_count": 323,
   "id": "fe6a4ea5",
   "metadata": {},
   "outputs": [
    {
     "data": {
      "text/plain": [
       "[<selenium.webdriver.remote.webelement.WebElement (session=\"9b9f83077d999c37f34b373322bac94f\", element=\"f38b2c73-16d4-4540-b5ba-dcdf4add6098\")>,\n",
       " <selenium.webdriver.remote.webelement.WebElement (session=\"9b9f83077d999c37f34b373322bac94f\", element=\"8567c2bf-e912-4f21-aec0-c0874f025f47\")>,\n",
       " <selenium.webdriver.remote.webelement.WebElement (session=\"9b9f83077d999c37f34b373322bac94f\", element=\"efa1a674-e8ef-43e5-89af-8e3ba1824aa7\")>,\n",
       " <selenium.webdriver.remote.webelement.WebElement (session=\"9b9f83077d999c37f34b373322bac94f\", element=\"c4d9dcfe-e885-48ad-a870-fc7032b38f33\")>]"
      ]
     },
     "execution_count": 323,
     "metadata": {},
     "output_type": "execute_result"
    }
   ],
   "source": [
    "#Busco los vuelos\n",
    "vuelos = driver.find_elements_by_xpath('//li[@class=\"flight\"]')\n",
    "vuelos"
   ]
  },
  {
   "cell_type": "code",
   "execution_count": 324,
   "id": "ddb8e193",
   "metadata": {},
   "outputs": [
    {
     "data": {
      "text/plain": [
       "<selenium.webdriver.remote.webelement.WebElement (session=\"9b9f83077d999c37f34b373322bac94f\", element=\"f38b2c73-16d4-4540-b5ba-dcdf4add6098\")>"
      ]
     },
     "execution_count": 324,
     "metadata": {},
     "output_type": "execute_result"
    }
   ],
   "source": [
    "#Selecciono el primer vuelo\n",
    "vuelo = vuelos[0]\n",
    "vuelo"
   ]
  },
  {
   "cell_type": "code",
   "execution_count": 325,
   "id": "8afadce4",
   "metadata": {},
   "outputs": [
    {
     "data": {
      "text/plain": [
       "'20:27'"
      ]
     },
     "execution_count": 325,
     "metadata": {},
     "output_type": "execute_result"
    }
   ],
   "source": [
    "#Extracción Hora de Partida\n",
    "vuelo.find_element_by_xpath('.//div[@class=\"departure\"]/time').get_attribute('datetime')"
   ]
  },
  {
   "cell_type": "code",
   "execution_count": 326,
   "id": "6043095e",
   "metadata": {},
   "outputs": [
    {
     "data": {
      "text/plain": [
       "'15:10'"
      ]
     },
     "execution_count": 326,
     "metadata": {},
     "output_type": "execute_result"
    }
   ],
   "source": [
    "#Extracción Hora de llegada\n",
    "vuelo.find_element_by_xpath('.//div[@class=\"arrival\"]/time').get_attribute('datetime')"
   ]
  },
  {
   "cell_type": "code",
   "execution_count": 327,
   "id": "892e2f2d",
   "metadata": {},
   "outputs": [
    {
     "data": {
      "text/plain": [
       "'PT21H43M'"
      ]
     },
     "execution_count": 327,
     "metadata": {},
     "output_type": "execute_result"
    }
   ],
   "source": [
    "#Extracción Duración de Vuelo\n",
    "vuelo.find_element_by_xpath('.//span[@class=\"duration\"]/time').get_attribute('datetime')"
   ]
  },
  {
   "cell_type": "code",
   "execution_count": 328,
   "id": "1a985b2b",
   "metadata": {},
   "outputs": [],
   "source": [
    "#Para ver las escalas necesito buscar el botón con XPATH\n",
    "boton_escalas = vuelo.find_element_by_xpath('.//div[@class=\"flight-summary-stops-description\"]/button')"
   ]
  },
  {
   "cell_type": "code",
   "execution_count": 329,
   "id": "020ada4d",
   "metadata": {},
   "outputs": [],
   "source": [
    "#Acá uso la función CLICK para que Selenieum de un clic\n",
    "boton_escalas.click()"
   ]
  },
  {
   "cell_type": "code",
   "execution_count": 330,
   "id": "9dce3dcf",
   "metadata": {},
   "outputs": [
    {
     "data": {
      "text/plain": [
       "<selenium.webdriver.remote.webelement.WebElement (session=\"0ceaf9944734abe718a81d49050e1f57\", element=\"48949a59-6cec-4f9d-bfc3-96a90c0e19e4\")>"
      ]
     },
     "execution_count": 330,
     "metadata": {},
     "output_type": "execute_result"
    }
   ],
   "source": [
    "#Busco los segmentos\n",
    "segmentos = vuelo.find_elements_by_xpath('//div[@class=\"sc-hZSUBg gfeULV\"]/div[@class=\"sc-cLQEGU hyoued\"]')\n",
    "segmento"
   ]
  },
  {
   "cell_type": "code",
   "execution_count": 331,
   "id": "4cf98b5b",
   "metadata": {},
   "outputs": [
    {
     "data": {
      "text/plain": [
       "<selenium.webdriver.remote.webelement.WebElement (session=\"9b9f83077d999c37f34b373322bac94f\", element=\"0f7f71c8-cdc5-4c51-a529-c459434ed91c\")>"
      ]
     },
     "execution_count": 331,
     "metadata": {},
     "output_type": "execute_result"
    }
   ],
   "source": [
    "#Selecciono el primer segmento\n",
    "segmento = segmentos[0]\n",
    "segmento"
   ]
  },
  {
   "cell_type": "code",
   "execution_count": 332,
   "id": "758c5fe6",
   "metadata": {},
   "outputs": [
    {
     "data": {
      "text/plain": [
       "2"
      ]
     },
     "execution_count": 332,
     "metadata": {},
     "output_type": "execute_result"
    }
   ],
   "source": [
    "#Acá extraigo el número de escalas para el vuelo \n",
    "escalas = len(segmentos) - 1\n",
    "escalas"
   ]
  },
  {
   "cell_type": "code",
   "execution_count": 333,
   "id": "e3eec950",
   "metadata": {},
   "outputs": [
    {
     "data": {
      "text/plain": [
       "'Mariscal Sucre Intl.'"
      ]
     },
     "execution_count": 333,
     "metadata": {},
     "output_type": "execute_result"
    }
   ],
   "source": [
    "#Busco el aeropuerto de salida\n",
    "segmento.find_element_by_xpath('.//span[@class=\"sc-eTuwsz eumCTU\"]/span').text"
   ]
  },
  {
   "cell_type": "code",
   "execution_count": 334,
   "id": "b221864a",
   "metadata": {},
   "outputs": [
    {
     "data": {
      "text/plain": [
       "'20:27'"
      ]
     },
     "execution_count": 334,
     "metadata": {},
     "output_type": "execute_result"
    }
   ],
   "source": [
    "#Busco la hora de salida\n",
    "segmento.find_element_by_xpath('.//div[@class=\"sc-bwCtUz iybVbT\"]/time').get_attribute('datetime')"
   ]
  },
  {
   "cell_type": "code",
   "execution_count": 335,
   "id": "84fbbd60",
   "metadata": {},
   "outputs": [],
   "source": [
    "#Cierro la sub-página de Escalas\n",
    "driver.find_element_by_xpath('//div[@class=\"modal-content sc-iwsKbI eHVGAN\"]//button[@class=\"close\"]').click()"
   ]
  },
  {
   "cell_type": "code",
   "execution_count": 336,
   "id": "6a68b1d9",
   "metadata": {},
   "outputs": [],
   "source": [
    "#Abro el Módulo de Precios\n",
    "vuelo.click()"
   ]
  },
  {
   "cell_type": "code",
   "execution_count": 337,
   "id": "0289af52",
   "metadata": {},
   "outputs": [
    {
     "data": {
      "text/plain": [
       "[<selenium.webdriver.remote.webelement.WebElement (session=\"9b9f83077d999c37f34b373322bac94f\", element=\"c04ce3fa-2b5e-4471-9e3d-f10e86b04ffd\")>,\n",
       " <selenium.webdriver.remote.webelement.WebElement (session=\"9b9f83077d999c37f34b373322bac94f\", element=\"6353c5d7-8fba-42b3-ad27-44e8e5a65654\")>]"
      ]
     },
     "execution_count": 337,
     "metadata": {},
     "output_type": "execute_result"
    }
   ],
   "source": [
    "tarifas = vuelo.find_elements_by_xpath('//div[@class=\"fares-table-container\"]//tfoot//td[contains(@class, \"fare-\")]')\n",
    "tarifas"
   ]
  },
  {
   "cell_type": "code",
   "execution_count": 338,
   "id": "c53d1a70",
   "metadata": {},
   "outputs": [
    {
     "name": "stdout",
     "output_type": "stream",
     "text": [
      "{'PLUS': {'moneda': 'US$', 'valor': '1511'}}\n",
      "{'TOP': {'moneda': 'US$', 'valor': '738'}}\n"
     ]
    }
   ],
   "source": [
    "precios = []\n",
    "for tarifa in tarifas:\n",
    "    nombre = tarifa.find_element_by_xpath('.//label').get_attribute('for')\n",
    "    moneda = tarifa.find_element_by_xpath('.//span[@class=\"price\"]/span[@class=\"currency-symbol\"]').text\n",
    "    valor = tarifa.find_element_by_xpath('.//span[@class=\"price\"]/span[@class=\"value\"]').text\n",
    "    dict_tarifa = {nombre:{'moneda': moneda, 'valor': valor}}\n",
    "    precios.append(dict_tarifa)\n",
    "    print(dict_tarifa)"
   ]
  },
  {
   "cell_type": "markdown",
   "id": "99b9e8c9",
   "metadata": {},
   "source": [
    "Paso 4. Cierro el navegador"
   ]
  },
  {
   "cell_type": "code",
   "execution_count": 340,
   "id": "c7628cdd",
   "metadata": {},
   "outputs": [
    {
     "ename": "InvalidSessionIdException",
     "evalue": "Message: invalid session id\n",
     "output_type": "error",
     "traceback": [
      "\u001b[1;31m---------------------------------------------------------------------------\u001b[0m",
      "\u001b[1;31mInvalidSessionIdException\u001b[0m                 Traceback (most recent call last)",
      "\u001b[1;32m~\\AppData\\Local\\Temp/ipykernel_14148/3193570824.py\u001b[0m in \u001b[0;36m<module>\u001b[1;34m\u001b[0m\n\u001b[1;32m----> 1\u001b[1;33m \u001b[0mdriver\u001b[0m\u001b[1;33m.\u001b[0m\u001b[0mclose\u001b[0m\u001b[1;33m(\u001b[0m\u001b[1;33m)\u001b[0m\u001b[1;33m\u001b[0m\u001b[1;33m\u001b[0m\u001b[0m\n\u001b[0m",
      "\u001b[1;32mc:\\users\\jm_yg\\dropbox\\educación\\moocs\\web scrapping\\venv\\lib\\site-packages\\selenium\\webdriver\\remote\\webdriver.py\u001b[0m in \u001b[0;36mclose\u001b[1;34m(self)\u001b[0m\n\u001b[0;32m    686\u001b[0m             \u001b[0mdriver\u001b[0m\u001b[1;33m.\u001b[0m\u001b[0mclose\u001b[0m\u001b[1;33m(\u001b[0m\u001b[1;33m)\u001b[0m\u001b[1;33m\u001b[0m\u001b[1;33m\u001b[0m\u001b[0m\n\u001b[0;32m    687\u001b[0m         \"\"\"\n\u001b[1;32m--> 688\u001b[1;33m         \u001b[0mself\u001b[0m\u001b[1;33m.\u001b[0m\u001b[0mexecute\u001b[0m\u001b[1;33m(\u001b[0m\u001b[0mCommand\u001b[0m\u001b[1;33m.\u001b[0m\u001b[0mCLOSE\u001b[0m\u001b[1;33m)\u001b[0m\u001b[1;33m\u001b[0m\u001b[1;33m\u001b[0m\u001b[0m\n\u001b[0m\u001b[0;32m    689\u001b[0m \u001b[1;33m\u001b[0m\u001b[0m\n\u001b[0;32m    690\u001b[0m     \u001b[1;32mdef\u001b[0m \u001b[0mquit\u001b[0m\u001b[1;33m(\u001b[0m\u001b[0mself\u001b[0m\u001b[1;33m)\u001b[0m\u001b[1;33m:\u001b[0m\u001b[1;33m\u001b[0m\u001b[1;33m\u001b[0m\u001b[0m\n",
      "\u001b[1;32mc:\\users\\jm_yg\\dropbox\\educación\\moocs\\web scrapping\\venv\\lib\\site-packages\\selenium\\webdriver\\remote\\webdriver.py\u001b[0m in \u001b[0;36mexecute\u001b[1;34m(self, driver_command, params)\u001b[0m\n\u001b[0;32m    319\u001b[0m         \u001b[0mresponse\u001b[0m \u001b[1;33m=\u001b[0m \u001b[0mself\u001b[0m\u001b[1;33m.\u001b[0m\u001b[0mcommand_executor\u001b[0m\u001b[1;33m.\u001b[0m\u001b[0mexecute\u001b[0m\u001b[1;33m(\u001b[0m\u001b[0mdriver_command\u001b[0m\u001b[1;33m,\u001b[0m \u001b[0mparams\u001b[0m\u001b[1;33m)\u001b[0m\u001b[1;33m\u001b[0m\u001b[1;33m\u001b[0m\u001b[0m\n\u001b[0;32m    320\u001b[0m         \u001b[1;32mif\u001b[0m \u001b[0mresponse\u001b[0m\u001b[1;33m:\u001b[0m\u001b[1;33m\u001b[0m\u001b[1;33m\u001b[0m\u001b[0m\n\u001b[1;32m--> 321\u001b[1;33m             \u001b[0mself\u001b[0m\u001b[1;33m.\u001b[0m\u001b[0merror_handler\u001b[0m\u001b[1;33m.\u001b[0m\u001b[0mcheck_response\u001b[0m\u001b[1;33m(\u001b[0m\u001b[0mresponse\u001b[0m\u001b[1;33m)\u001b[0m\u001b[1;33m\u001b[0m\u001b[1;33m\u001b[0m\u001b[0m\n\u001b[0m\u001b[0;32m    322\u001b[0m             response['value'] = self._unwrap_value(\n\u001b[0;32m    323\u001b[0m                 response.get('value', None))\n",
      "\u001b[1;32mc:\\users\\jm_yg\\dropbox\\educación\\moocs\\web scrapping\\venv\\lib\\site-packages\\selenium\\webdriver\\remote\\errorhandler.py\u001b[0m in \u001b[0;36mcheck_response\u001b[1;34m(self, response)\u001b[0m\n\u001b[0;32m    240\u001b[0m                 \u001b[0malert_text\u001b[0m \u001b[1;33m=\u001b[0m \u001b[0mvalue\u001b[0m\u001b[1;33m[\u001b[0m\u001b[1;34m'alert'\u001b[0m\u001b[1;33m]\u001b[0m\u001b[1;33m.\u001b[0m\u001b[0mget\u001b[0m\u001b[1;33m(\u001b[0m\u001b[1;34m'text'\u001b[0m\u001b[1;33m)\u001b[0m\u001b[1;33m\u001b[0m\u001b[1;33m\u001b[0m\u001b[0m\n\u001b[0;32m    241\u001b[0m             \u001b[1;32mraise\u001b[0m \u001b[0mexception_class\u001b[0m\u001b[1;33m(\u001b[0m\u001b[0mmessage\u001b[0m\u001b[1;33m,\u001b[0m \u001b[0mscreen\u001b[0m\u001b[1;33m,\u001b[0m \u001b[0mstacktrace\u001b[0m\u001b[1;33m,\u001b[0m \u001b[0malert_text\u001b[0m\u001b[1;33m)\u001b[0m\u001b[1;33m\u001b[0m\u001b[1;33m\u001b[0m\u001b[0m\n\u001b[1;32m--> 242\u001b[1;33m         \u001b[1;32mraise\u001b[0m \u001b[0mexception_class\u001b[0m\u001b[1;33m(\u001b[0m\u001b[0mmessage\u001b[0m\u001b[1;33m,\u001b[0m \u001b[0mscreen\u001b[0m\u001b[1;33m,\u001b[0m \u001b[0mstacktrace\u001b[0m\u001b[1;33m)\u001b[0m\u001b[1;33m\u001b[0m\u001b[1;33m\u001b[0m\u001b[0m\n\u001b[0m\u001b[0;32m    243\u001b[0m \u001b[1;33m\u001b[0m\u001b[0m\n\u001b[0;32m    244\u001b[0m     \u001b[1;32mdef\u001b[0m \u001b[0m_value_or_default\u001b[0m\u001b[1;33m(\u001b[0m\u001b[0mself\u001b[0m\u001b[1;33m,\u001b[0m \u001b[0mobj\u001b[0m\u001b[1;33m,\u001b[0m \u001b[0mkey\u001b[0m\u001b[1;33m,\u001b[0m \u001b[0mdefault\u001b[0m\u001b[1;33m)\u001b[0m\u001b[1;33m:\u001b[0m\u001b[1;33m\u001b[0m\u001b[1;33m\u001b[0m\u001b[0m\n",
      "\u001b[1;31mInvalidSessionIdException\u001b[0m: Message: invalid session id\n"
     ]
    }
   ],
   "source": [
    "driver.close()"
   ]
  },
  {
   "cell_type": "code",
   "execution_count": null,
   "id": "04e4f784",
   "metadata": {},
   "outputs": [],
   "source": []
  }
 ],
 "metadata": {
  "kernelspec": {
   "display_name": "Python 3 (ipykernel)",
   "language": "python",
   "name": "python3"
  },
  "language_info": {
   "codemirror_mode": {
    "name": "ipython",
    "version": 3
   },
   "file_extension": ".py",
   "mimetype": "text/x-python",
   "name": "python",
   "nbconvert_exporter": "python",
   "pygments_lexer": "ipython3",
   "version": "3.9.6"
  }
 },
 "nbformat": 4,
 "nbformat_minor": 5
}
